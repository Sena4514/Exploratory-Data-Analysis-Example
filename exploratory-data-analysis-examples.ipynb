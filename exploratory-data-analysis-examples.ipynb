{
 "cells": [
  {
   "cell_type": "markdown",
   "metadata": {
    "papermill": {
     "duration": 0.035145,
     "end_time": "2021-04-04T14:32:01.595664",
     "exception": false,
     "start_time": "2021-04-04T14:32:01.560519",
     "status": "completed"
    },
    "tags": []
   },
   "source": [
    "## Keşifçi Veri Analizi | Becerileri Pekiştirme"
   ]
  },
  {
   "cell_type": "markdown",
   "metadata": {
    "papermill": {
     "duration": 0.032632,
     "end_time": "2021-04-04T14:32:01.663120",
     "exception": false,
     "start_time": "2021-04-04T14:32:01.630488",
     "status": "completed"
    },
    "tags": []
   },
   "source": [
    "Aşağıda ihtiyacımız doğrultusunda kullanacağımız kütüphaneleri yükleyelim."
   ]
  },
  {
   "cell_type": "code",
   "execution_count": 1,
   "metadata": {
    "execution": {
     "iopub.execute_input": "2021-04-04T14:32:01.741607Z",
     "iopub.status.busy": "2021-04-04T14:32:01.740802Z",
     "iopub.status.idle": "2021-04-04T14:32:02.794226Z",
     "shell.execute_reply": "2021-04-04T14:32:02.793431Z"
    },
    "papermill": {
     "duration": 1.098051,
     "end_time": "2021-04-04T14:32:02.794488",
     "exception": false,
     "start_time": "2021-04-04T14:32:01.696437",
     "status": "completed"
    },
    "tags": []
   },
   "outputs": [],
   "source": [
    "import numpy as np\n",
    "import seaborn as sns\n",
    "import pandas as pd"
   ]
  },
  {
   "cell_type": "markdown",
   "metadata": {
    "papermill": {
     "duration": 0.034475,
     "end_time": "2021-04-04T14:32:02.864146",
     "exception": false,
     "start_time": "2021-04-04T14:32:02.829671",
     "status": "completed"
    },
    "tags": []
   },
   "source": [
    "Veri çerçevemizi bulunduğumuz dizinden yükleyelim ve bir veri çerçevesi haline getirerek df değişkenine atayalım. (pd.read_csv(...csv))"
   ]
  },
  {
   "cell_type": "code",
   "execution_count": 2,
   "metadata": {
    "execution": {
     "iopub.execute_input": "2021-04-04T14:32:02.936758Z",
     "iopub.status.busy": "2021-04-04T14:32:02.936059Z",
     "iopub.status.idle": "2021-04-04T14:32:02.963402Z",
     "shell.execute_reply": "2021-04-04T14:32:02.962718Z"
    },
    "papermill": {
     "duration": 0.066115,
     "end_time": "2021-04-04T14:32:02.963568",
     "exception": false,
     "start_time": "2021-04-04T14:32:02.897453",
     "status": "completed"
    },
    "tags": []
   },
   "outputs": [],
   "source": [
    "df = pd.read_csv('../input/iris-flower-dataset/IRIS.csv')"
   ]
  },
  {
   "cell_type": "markdown",
   "metadata": {
    "papermill": {
     "duration": 0.034039,
     "end_time": "2021-04-04T14:32:03.031081",
     "exception": false,
     "start_time": "2021-04-04T14:32:02.997042",
     "status": "completed"
    },
    "tags": []
   },
   "source": [
    "Veri çerçevesinin ilk 5 gözlemini görüntüleyelim."
   ]
  },
  {
   "cell_type": "code",
   "execution_count": 3,
   "metadata": {
    "execution": {
     "iopub.execute_input": "2021-04-04T14:32:03.117211Z",
     "iopub.status.busy": "2021-04-04T14:32:03.115982Z",
     "iopub.status.idle": "2021-04-04T14:32:03.139821Z",
     "shell.execute_reply": "2021-04-04T14:32:03.139167Z"
    },
    "papermill": {
     "duration": 0.07495,
     "end_time": "2021-04-04T14:32:03.139963",
     "exception": false,
     "start_time": "2021-04-04T14:32:03.065013",
     "status": "completed"
    },
    "tags": []
   },
   "outputs": [
    {
     "data": {
      "text/html": [
       "<div>\n",
       "<style scoped>\n",
       "    .dataframe tbody tr th:only-of-type {\n",
       "        vertical-align: middle;\n",
       "    }\n",
       "\n",
       "    .dataframe tbody tr th {\n",
       "        vertical-align: top;\n",
       "    }\n",
       "\n",
       "    .dataframe thead th {\n",
       "        text-align: right;\n",
       "    }\n",
       "</style>\n",
       "<table border=\"1\" class=\"dataframe\">\n",
       "  <thead>\n",
       "    <tr style=\"text-align: right;\">\n",
       "      <th></th>\n",
       "      <th>sepal_length</th>\n",
       "      <th>sepal_width</th>\n",
       "      <th>petal_length</th>\n",
       "      <th>petal_width</th>\n",
       "      <th>species</th>\n",
       "    </tr>\n",
       "  </thead>\n",
       "  <tbody>\n",
       "    <tr>\n",
       "      <th>0</th>\n",
       "      <td>5.1</td>\n",
       "      <td>3.5</td>\n",
       "      <td>1.4</td>\n",
       "      <td>0.2</td>\n",
       "      <td>Iris-setosa</td>\n",
       "    </tr>\n",
       "    <tr>\n",
       "      <th>1</th>\n",
       "      <td>4.9</td>\n",
       "      <td>3.0</td>\n",
       "      <td>1.4</td>\n",
       "      <td>0.2</td>\n",
       "      <td>Iris-setosa</td>\n",
       "    </tr>\n",
       "    <tr>\n",
       "      <th>2</th>\n",
       "      <td>4.7</td>\n",
       "      <td>3.2</td>\n",
       "      <td>1.3</td>\n",
       "      <td>0.2</td>\n",
       "      <td>Iris-setosa</td>\n",
       "    </tr>\n",
       "    <tr>\n",
       "      <th>3</th>\n",
       "      <td>4.6</td>\n",
       "      <td>3.1</td>\n",
       "      <td>1.5</td>\n",
       "      <td>0.2</td>\n",
       "      <td>Iris-setosa</td>\n",
       "    </tr>\n",
       "    <tr>\n",
       "      <th>4</th>\n",
       "      <td>5.0</td>\n",
       "      <td>3.6</td>\n",
       "      <td>1.4</td>\n",
       "      <td>0.2</td>\n",
       "      <td>Iris-setosa</td>\n",
       "    </tr>\n",
       "  </tbody>\n",
       "</table>\n",
       "</div>"
      ],
      "text/plain": [
       "   sepal_length  sepal_width  petal_length  petal_width      species\n",
       "0           5.1          3.5           1.4          0.2  Iris-setosa\n",
       "1           4.9          3.0           1.4          0.2  Iris-setosa\n",
       "2           4.7          3.2           1.3          0.2  Iris-setosa\n",
       "3           4.6          3.1           1.5          0.2  Iris-setosa\n",
       "4           5.0          3.6           1.4          0.2  Iris-setosa"
      ]
     },
     "execution_count": 3,
     "metadata": {},
     "output_type": "execute_result"
    }
   ],
   "source": [
    "df.head()"
   ]
  },
  {
   "cell_type": "markdown",
   "metadata": {
    "papermill": {
     "duration": 0.034139,
     "end_time": "2021-04-04T14:32:03.208893",
     "exception": false,
     "start_time": "2021-04-04T14:32:03.174754",
     "status": "completed"
    },
    "tags": []
   },
   "source": [
    "Veri çerçevesinin kaç öznitelik ve kaç gözlemden oluştuğunu görüntüleyelim."
   ]
  },
  {
   "cell_type": "code",
   "execution_count": 4,
   "metadata": {
    "execution": {
     "iopub.execute_input": "2021-04-04T14:32:03.284573Z",
     "iopub.status.busy": "2021-04-04T14:32:03.283510Z",
     "iopub.status.idle": "2021-04-04T14:32:03.288615Z",
     "shell.execute_reply": "2021-04-04T14:32:03.287932Z"
    },
    "papermill": {
     "duration": 0.044983,
     "end_time": "2021-04-04T14:32:03.288766",
     "exception": false,
     "start_time": "2021-04-04T14:32:03.243783",
     "status": "completed"
    },
    "tags": []
   },
   "outputs": [
    {
     "data": {
      "text/plain": [
       "(150, 5)"
      ]
     },
     "execution_count": 4,
     "metadata": {},
     "output_type": "execute_result"
    }
   ],
   "source": [
    "df.shape\n",
    "# 150 gozlem ve 6 degiskenden olusuyor"
   ]
  },
  {
   "cell_type": "markdown",
   "metadata": {
    "papermill": {
     "duration": 0.034551,
     "end_time": "2021-04-04T14:32:03.357868",
     "exception": false,
     "start_time": "2021-04-04T14:32:03.323317",
     "status": "completed"
    },
    "tags": []
   },
   "source": [
    "Veri çerçevesindeki değişkenlerin hangi tipte olduğunu ve bellek kullanımını görüntüleyelim."
   ]
  },
  {
   "cell_type": "code",
   "execution_count": 5,
   "metadata": {
    "execution": {
     "iopub.execute_input": "2021-04-04T14:32:03.447605Z",
     "iopub.status.busy": "2021-04-04T14:32:03.446892Z",
     "iopub.status.idle": "2021-04-04T14:32:03.451040Z",
     "shell.execute_reply": "2021-04-04T14:32:03.450395Z"
    },
    "papermill": {
     "duration": 0.057422,
     "end_time": "2021-04-04T14:32:03.451200",
     "exception": false,
     "start_time": "2021-04-04T14:32:03.393778",
     "status": "completed"
    },
    "tags": []
   },
   "outputs": [
    {
     "name": "stdout",
     "output_type": "stream",
     "text": [
      "<class 'pandas.core.frame.DataFrame'>\n",
      "RangeIndex: 150 entries, 0 to 149\n",
      "Data columns (total 5 columns):\n",
      " #   Column        Non-Null Count  Dtype  \n",
      "---  ------        --------------  -----  \n",
      " 0   sepal_length  150 non-null    float64\n",
      " 1   sepal_width   150 non-null    float64\n",
      " 2   petal_length  150 non-null    float64\n",
      " 3   petal_width   150 non-null    float64\n",
      " 4   species       150 non-null    object \n",
      "dtypes: float64(4), object(1)\n",
      "memory usage: 6.0+ KB\n"
     ]
    }
   ],
   "source": [
    "df.info()"
   ]
  },
  {
   "cell_type": "markdown",
   "metadata": {
    "papermill": {
     "duration": 0.037692,
     "end_time": "2021-04-04T14:32:03.524168",
     "exception": false,
     "start_time": "2021-04-04T14:32:03.486476",
     "status": "completed"
    },
    "tags": []
   },
   "source": [
    "Veri çerçevesindeki sayısal değişkenler için temel istatistik değerlerini görüntüleyelim.\n",
    "\n",
    "Standart sapma ve ortalama değerlerden çıkarımda bulunarak hangi değişkenlerin ne kadar varyansa sahip olduğu hakkında fikir yürütelim."
   ]
  },
  {
   "cell_type": "code",
   "execution_count": 6,
   "metadata": {
    "execution": {
     "iopub.execute_input": "2021-04-04T14:32:03.624515Z",
     "iopub.status.busy": "2021-04-04T14:32:03.608188Z",
     "iopub.status.idle": "2021-04-04T14:32:03.630190Z",
     "shell.execute_reply": "2021-04-04T14:32:03.629617Z"
    },
    "papermill": {
     "duration": 0.069973,
     "end_time": "2021-04-04T14:32:03.630359",
     "exception": false,
     "start_time": "2021-04-04T14:32:03.560386",
     "status": "completed"
    },
    "tags": []
   },
   "outputs": [
    {
     "data": {
      "text/html": [
       "<div>\n",
       "<style scoped>\n",
       "    .dataframe tbody tr th:only-of-type {\n",
       "        vertical-align: middle;\n",
       "    }\n",
       "\n",
       "    .dataframe tbody tr th {\n",
       "        vertical-align: top;\n",
       "    }\n",
       "\n",
       "    .dataframe thead th {\n",
       "        text-align: right;\n",
       "    }\n",
       "</style>\n",
       "<table border=\"1\" class=\"dataframe\">\n",
       "  <thead>\n",
       "    <tr style=\"text-align: right;\">\n",
       "      <th></th>\n",
       "      <th>count</th>\n",
       "      <th>mean</th>\n",
       "      <th>std</th>\n",
       "      <th>min</th>\n",
       "      <th>25%</th>\n",
       "      <th>50%</th>\n",
       "      <th>75%</th>\n",
       "      <th>max</th>\n",
       "    </tr>\n",
       "  </thead>\n",
       "  <tbody>\n",
       "    <tr>\n",
       "      <th>sepal_length</th>\n",
       "      <td>150.0</td>\n",
       "      <td>5.843333</td>\n",
       "      <td>0.828066</td>\n",
       "      <td>4.3</td>\n",
       "      <td>5.1</td>\n",
       "      <td>5.80</td>\n",
       "      <td>6.4</td>\n",
       "      <td>7.9</td>\n",
       "    </tr>\n",
       "    <tr>\n",
       "      <th>sepal_width</th>\n",
       "      <td>150.0</td>\n",
       "      <td>3.054000</td>\n",
       "      <td>0.433594</td>\n",
       "      <td>2.0</td>\n",
       "      <td>2.8</td>\n",
       "      <td>3.00</td>\n",
       "      <td>3.3</td>\n",
       "      <td>4.4</td>\n",
       "    </tr>\n",
       "    <tr>\n",
       "      <th>petal_length</th>\n",
       "      <td>150.0</td>\n",
       "      <td>3.758667</td>\n",
       "      <td>1.764420</td>\n",
       "      <td>1.0</td>\n",
       "      <td>1.6</td>\n",
       "      <td>4.35</td>\n",
       "      <td>5.1</td>\n",
       "      <td>6.9</td>\n",
       "    </tr>\n",
       "    <tr>\n",
       "      <th>petal_width</th>\n",
       "      <td>150.0</td>\n",
       "      <td>1.198667</td>\n",
       "      <td>0.763161</td>\n",
       "      <td>0.1</td>\n",
       "      <td>0.3</td>\n",
       "      <td>1.30</td>\n",
       "      <td>1.8</td>\n",
       "      <td>2.5</td>\n",
       "    </tr>\n",
       "  </tbody>\n",
       "</table>\n",
       "</div>"
      ],
      "text/plain": [
       "              count      mean       std  min  25%   50%  75%  max\n",
       "sepal_length  150.0  5.843333  0.828066  4.3  5.1  5.80  6.4  7.9\n",
       "sepal_width   150.0  3.054000  0.433594  2.0  2.8  3.00  3.3  4.4\n",
       "petal_length  150.0  3.758667  1.764420  1.0  1.6  4.35  5.1  6.9\n",
       "petal_width   150.0  1.198667  0.763161  0.1  0.3  1.30  1.8  2.5"
      ]
     },
     "execution_count": 6,
     "metadata": {},
     "output_type": "execute_result"
    }
   ],
   "source": [
    "df.describe().T\n",
    "# Varyans, standart sapmanin karesidir.."
   ]
  },
  {
   "cell_type": "markdown",
   "metadata": {
    "papermill": {
     "duration": 0.035448,
     "end_time": "2021-04-04T14:32:03.702239",
     "exception": false,
     "start_time": "2021-04-04T14:32:03.666791",
     "status": "completed"
    },
    "tags": []
   },
   "source": [
    "Veri çerçevesinde hangi öznitelikte kaç adet eksik değer olduğunu gözlemleyelim."
   ]
  },
  {
   "cell_type": "code",
   "execution_count": 7,
   "metadata": {
    "execution": {
     "iopub.execute_input": "2021-04-04T14:32:03.796750Z",
     "iopub.status.busy": "2021-04-04T14:32:03.795868Z",
     "iopub.status.idle": "2021-04-04T14:32:03.799383Z",
     "shell.execute_reply": "2021-04-04T14:32:03.800033Z"
    },
    "papermill": {
     "duration": 0.057058,
     "end_time": "2021-04-04T14:32:03.800211",
     "exception": false,
     "start_time": "2021-04-04T14:32:03.743153",
     "status": "completed"
    },
    "tags": []
   },
   "outputs": [
    {
     "data": {
      "text/plain": [
       "sepal_length    0\n",
       "sepal_width     0\n",
       "petal_length    0\n",
       "petal_width     0\n",
       "species         0\n",
       "dtype: int64"
      ]
     },
     "execution_count": 7,
     "metadata": {},
     "output_type": "execute_result"
    }
   ],
   "source": [
    "df.isna().sum()\n",
    "# eksik deger bulunmamakta"
   ]
  },
  {
   "cell_type": "markdown",
   "metadata": {
    "papermill": {
     "duration": 0.040221,
     "end_time": "2021-04-04T14:32:03.885326",
     "exception": false,
     "start_time": "2021-04-04T14:32:03.845105",
     "status": "completed"
    },
    "tags": []
   },
   "source": [
    "Sayısal değişkenler arasında korelasyon olup olmadığını göstermek için korelasyon matrisi çizdirelim. Korelasyon katsayıları hakkında fikir yürütelim.\n",
    "\n",
    "En güçlü pozitif ilişki hangi iki değişken arasındadır?"
   ]
  },
  {
   "cell_type": "code",
   "execution_count": 8,
   "metadata": {
    "execution": {
     "iopub.execute_input": "2021-04-04T14:32:03.962367Z",
     "iopub.status.busy": "2021-04-04T14:32:03.961350Z",
     "iopub.status.idle": "2021-04-04T14:32:03.976291Z",
     "shell.execute_reply": "2021-04-04T14:32:03.976863Z"
    },
    "papermill": {
     "duration": 0.055263,
     "end_time": "2021-04-04T14:32:03.977039",
     "exception": false,
     "start_time": "2021-04-04T14:32:03.921776",
     "status": "completed"
    },
    "tags": []
   },
   "outputs": [
    {
     "data": {
      "text/html": [
       "<div>\n",
       "<style scoped>\n",
       "    .dataframe tbody tr th:only-of-type {\n",
       "        vertical-align: middle;\n",
       "    }\n",
       "\n",
       "    .dataframe tbody tr th {\n",
       "        vertical-align: top;\n",
       "    }\n",
       "\n",
       "    .dataframe thead th {\n",
       "        text-align: right;\n",
       "    }\n",
       "</style>\n",
       "<table border=\"1\" class=\"dataframe\">\n",
       "  <thead>\n",
       "    <tr style=\"text-align: right;\">\n",
       "      <th></th>\n",
       "      <th>sepal_length</th>\n",
       "      <th>sepal_width</th>\n",
       "      <th>petal_length</th>\n",
       "      <th>petal_width</th>\n",
       "    </tr>\n",
       "  </thead>\n",
       "  <tbody>\n",
       "    <tr>\n",
       "      <th>sepal_length</th>\n",
       "      <td>1.000000</td>\n",
       "      <td>-0.109369</td>\n",
       "      <td>0.871754</td>\n",
       "      <td>0.817954</td>\n",
       "    </tr>\n",
       "    <tr>\n",
       "      <th>sepal_width</th>\n",
       "      <td>-0.109369</td>\n",
       "      <td>1.000000</td>\n",
       "      <td>-0.420516</td>\n",
       "      <td>-0.356544</td>\n",
       "    </tr>\n",
       "    <tr>\n",
       "      <th>petal_length</th>\n",
       "      <td>0.871754</td>\n",
       "      <td>-0.420516</td>\n",
       "      <td>1.000000</td>\n",
       "      <td>0.962757</td>\n",
       "    </tr>\n",
       "    <tr>\n",
       "      <th>petal_width</th>\n",
       "      <td>0.817954</td>\n",
       "      <td>-0.356544</td>\n",
       "      <td>0.962757</td>\n",
       "      <td>1.000000</td>\n",
       "    </tr>\n",
       "  </tbody>\n",
       "</table>\n",
       "</div>"
      ],
      "text/plain": [
       "              sepal_length  sepal_width  petal_length  petal_width\n",
       "sepal_length      1.000000    -0.109369      0.871754     0.817954\n",
       "sepal_width      -0.109369     1.000000     -0.420516    -0.356544\n",
       "petal_length      0.871754    -0.420516      1.000000     0.962757\n",
       "petal_width       0.817954    -0.356544      0.962757     1.000000"
      ]
     },
     "execution_count": 8,
     "metadata": {},
     "output_type": "execute_result"
    }
   ],
   "source": [
    "df.corr()\n",
    "# +1.00'a yaklastikca iki degisken arasinda ayni yondeki iliski artar.\n",
    "# En guclu pozitif iki iliski petal.length ve petal.width arasindadir."
   ]
  },
  {
   "cell_type": "markdown",
   "metadata": {
    "papermill": {
     "duration": 0.037455,
     "end_time": "2021-04-04T14:32:04.054056",
     "exception": false,
     "start_time": "2021-04-04T14:32:04.016601",
     "status": "completed"
    },
    "tags": []
   },
   "source": [
    "Korelasyon katsayılarını daha iyi okuyabilmek için ısı haritası çizdirelim."
   ]
  },
  {
   "cell_type": "code",
   "execution_count": 9,
   "metadata": {
    "execution": {
     "iopub.execute_input": "2021-04-04T14:32:04.133958Z",
     "iopub.status.busy": "2021-04-04T14:32:04.132862Z",
     "iopub.status.idle": "2021-04-04T14:32:04.390600Z",
     "shell.execute_reply": "2021-04-04T14:32:04.391154Z"
    },
    "papermill": {
     "duration": 0.299396,
     "end_time": "2021-04-04T14:32:04.391370",
     "exception": false,
     "start_time": "2021-04-04T14:32:04.091974",
     "status": "completed"
    },
    "tags": []
   },
   "outputs": [
    {
     "data": {
      "image/png": "[encoded data removed]",
      "text/plain": [
       "<Figure size 432x288 with 2 Axes>"
      ]
     },
     "metadata": {
      "needs_background": "light"
     },
     "output_type": "display_data"
    }
   ],
   "source": [
    "corr = df.corr()\n",
    "sns.heatmap(corr,\n",
    "           xticklabels=corr.columns.values,\n",
    "           yticklabels=corr.columns.values);"
   ]
  },
  {
   "cell_type": "markdown",
   "metadata": {
    "papermill": {
     "duration": 0.03738,
     "end_time": "2021-04-04T14:32:04.467187",
     "exception": false,
     "start_time": "2021-04-04T14:32:04.429807",
     "status": "completed"
    },
    "tags": []
   },
   "source": [
    "Veri çerçevemizin hedef değişkeninin \"variety\" benzersiz değerlerini görüntüleyelim."
   ]
  },
  {
   "cell_type": "code",
   "execution_count": 10,
   "metadata": {
    "execution": {
     "iopub.execute_input": "2021-04-04T14:32:04.548982Z",
     "iopub.status.busy": "2021-04-04T14:32:04.548109Z",
     "iopub.status.idle": "2021-04-04T14:32:04.551673Z",
     "shell.execute_reply": "2021-04-04T14:32:04.552149Z"
    },
    "papermill": {
     "duration": 0.047524,
     "end_time": "2021-04-04T14:32:04.552350",
     "exception": false,
     "start_time": "2021-04-04T14:32:04.504826",
     "status": "completed"
    },
    "tags": []
   },
   "outputs": [
    {
     "data": {
      "text/plain": [
       "array(['Iris-setosa', 'Iris-versicolor', 'Iris-virginica'], dtype=object)"
      ]
     },
     "execution_count": 10,
     "metadata": {},
     "output_type": "execute_result"
    }
   ],
   "source": [
    "df[\"species\"].unique()"
   ]
  },
  {
   "cell_type": "markdown",
   "metadata": {
    "papermill": {
     "duration": 0.037976,
     "end_time": "2021-04-04T14:32:04.628379",
     "exception": false,
     "start_time": "2021-04-04T14:32:04.590403",
     "status": "completed"
    },
    "tags": []
   },
   "source": [
    "Veri çerçevemizin hedef değişkeninin \"variety\" benzersiz kaç adet değer içerdiğini görüntüleyelim."
   ]
  },
  {
   "cell_type": "code",
   "execution_count": 11,
   "metadata": {
    "execution": {
     "iopub.execute_input": "2021-04-04T14:32:04.711008Z",
     "iopub.status.busy": "2021-04-04T14:32:04.710327Z",
     "iopub.status.idle": "2021-04-04T14:32:04.714101Z",
     "shell.execute_reply": "2021-04-04T14:32:04.714629Z"
    },
    "papermill": {
     "duration": 0.048142,
     "end_time": "2021-04-04T14:32:04.714810",
     "exception": false,
     "start_time": "2021-04-04T14:32:04.666668",
     "status": "completed"
    },
    "tags": []
   },
   "outputs": [
    {
     "data": {
      "text/plain": [
       "3"
      ]
     },
     "execution_count": 11,
     "metadata": {},
     "output_type": "execute_result"
    }
   ],
   "source": [
    "df[\"species\"].nunique()"
   ]
  },
  {
   "cell_type": "markdown",
   "metadata": {
    "papermill": {
     "duration": 0.038571,
     "end_time": "2021-04-04T14:32:04.791970",
     "exception": false,
     "start_time": "2021-04-04T14:32:04.753399",
     "status": "completed"
    },
    "tags": []
   },
   "source": [
    "Veri çerçevesindeki sepal.width ve sepal.length değişkenlerinin sürekli olduğunu görüyoruz. Bu iki sürekli veriyi görselleştirmek için önce scatterplot kullanalım."
   ]
  },
  {
   "cell_type": "code",
   "execution_count": 12,
   "metadata": {
    "execution": {
     "iopub.execute_input": "2021-04-04T14:32:04.874322Z",
     "iopub.status.busy": "2021-04-04T14:32:04.873647Z",
     "iopub.status.idle": "2021-04-04T14:32:05.078608Z",
     "shell.execute_reply": "2021-04-04T14:32:05.077993Z"
    },
    "papermill": {
     "duration": 0.246925,
     "end_time": "2021-04-04T14:32:05.078765",
     "exception": false,
     "start_time": "2021-04-04T14:32:04.831840",
     "status": "completed"
    },
    "tags": []
   },
   "outputs": [
    {
     "data": {
      "image/png": "[encoded data removed]",
      "text/plain": [
       "<Figure size 432x288 with 1 Axes>"
      ]
     },
     "metadata": {
      "needs_background": "light"
     },
     "output_type": "display_data"
    }
   ],
   "source": [
    "sns.scatterplot(x = \"sepal_width\", y = \"sepal_length\", data = df, color = \"purple\");"
   ]
  },
  {
   "cell_type": "markdown",
   "metadata": {
    "papermill": {
     "duration": 0.039324,
     "end_time": "2021-04-04T14:32:05.157338",
     "exception": false,
     "start_time": "2021-04-04T14:32:05.118014",
     "status": "completed"
    },
    "tags": []
   },
   "source": [
    "Aynı iki veriyi daha farklı bir açıdan frekanslarıyla incelemek için jointplot kullanarak görselleştirelim. "
   ]
  },
  {
   "cell_type": "code",
   "execution_count": 13,
   "metadata": {
    "execution": {
     "iopub.execute_input": "2021-04-04T14:32:05.329212Z",
     "iopub.status.busy": "2021-04-04T14:32:05.328508Z",
     "iopub.status.idle": "2021-04-04T14:32:05.772358Z",
     "shell.execute_reply": "2021-04-04T14:32:05.772827Z"
    },
    "papermill": {
     "duration": 0.576366,
     "end_time": "2021-04-04T14:32:05.773010",
     "exception": false,
     "start_time": "2021-04-04T14:32:05.196644",
     "status": "completed"
    },
    "tags": []
   },
   "outputs": [
    {
     "data": {
      "image/png": "[encoded data removed]",
      "text/plain": [
       "<Figure size 432x432 with 3 Axes>"
      ]
     },
     "metadata": {
      "needs_background": "light"
     },
     "output_type": "display_data"
    }
   ],
   "source": [
    "sns.jointplot(x = \"sepal_width\", y = \"sepal_length\", data = df, color = \"purple\");"
   ]
  },
  {
   "cell_type": "markdown",
   "metadata": {
    "papermill": {
     "duration": 0.042272,
     "end_time": "2021-04-04T14:32:05.855755",
     "exception": false,
     "start_time": "2021-04-04T14:32:05.813483",
     "status": "completed"
    },
    "tags": []
   },
   "source": [
    "Aynı iki veriyi scatterplot ile tekrardan görselleştirelim fakat bu sefer \"variety\" parametresi ile hedef değişkenine göre kırdıralım. \n",
    "\n",
    "3 farklı renk arasında sepal değişkenleriyle bir kümeleme yapılabilir mi? Ne kadar ayırt edilebilir bunun üzerine düşünelim."
   ]
  },
  {
   "cell_type": "code",
   "execution_count": 14,
   "metadata": {
    "execution": {
     "iopub.execute_input": "2021-04-04T14:32:05.944305Z",
     "iopub.status.busy": "2021-04-04T14:32:05.943573Z",
     "iopub.status.idle": "2021-04-04T14:32:06.223766Z",
     "shell.execute_reply": "2021-04-04T14:32:06.224304Z"
    },
    "papermill": {
     "duration": 0.325296,
     "end_time": "2021-04-04T14:32:06.224510",
     "exception": false,
     "start_time": "2021-04-04T14:32:05.899214",
     "status": "completed"
    },
    "tags": []
   },
   "outputs": [
    {
     "data": {
      "image/png": "[encoded data removed]",
      "text/plain": [
       "<Figure size 432x288 with 1 Axes>"
      ]
     },
     "metadata": {
      "needs_background": "light"
     },
     "output_type": "display_data"
    }
   ],
   "source": [
    "sns.scatterplot(x = \"sepal_width\", y = \"sepal_length\", hue = \"species\", data=df);"
   ]
  },
  {
   "cell_type": "markdown",
   "metadata": {
    "papermill": {
     "duration": 0.041792,
     "end_time": "2021-04-04T14:32:06.308374",
     "exception": false,
     "start_time": "2021-04-04T14:32:06.266582",
     "status": "completed"
    },
    "tags": []
   },
   "source": [
    "value_counts() fonksiyonu ile veri çerçevemizin ne kadar dengeli dağıldığını sorgulayalım. "
   ]
  },
  {
   "cell_type": "code",
   "execution_count": 15,
   "metadata": {
    "execution": {
     "iopub.execute_input": "2021-04-04T14:32:06.400033Z",
     "iopub.status.busy": "2021-04-04T14:32:06.399045Z",
     "iopub.status.idle": "2021-04-04T14:32:06.404312Z",
     "shell.execute_reply": "2021-04-04T14:32:06.404801Z"
    },
    "papermill": {
     "duration": 0.054589,
     "end_time": "2021-04-04T14:32:06.404992",
     "exception": false,
     "start_time": "2021-04-04T14:32:06.350403",
     "status": "completed"
    },
    "tags": []
   },
   "outputs": [
    {
     "data": {
      "text/plain": [
       "Iris-versicolor    50\n",
       "Iris-setosa        50\n",
       "Iris-virginica     50\n",
       "Name: species, dtype: int64"
      ]
     },
     "execution_count": 15,
     "metadata": {},
     "output_type": "execute_result"
    }
   ],
   "source": [
    "df[\"species\"].value_counts()"
   ]
  },
  {
   "cell_type": "markdown",
   "metadata": {
    "papermill": {
     "duration": 0.042764,
     "end_time": "2021-04-04T14:32:06.490600",
     "exception": false,
     "start_time": "2021-04-04T14:32:06.447836",
     "status": "completed"
    },
    "tags": []
   },
   "source": [
    "Keman grafiği çizdirerek sepal.width değişkeninin dağılımını inceleyin. \n",
    "\n",
    "Söz konusu dağılım bizim için ne ifade ediyor, normal bir dağılım olduğunu söyleyebilir miyiz?"
   ]
  },
  {
   "cell_type": "code",
   "execution_count": 16,
   "metadata": {
    "execution": {
     "iopub.execute_input": "2021-04-04T14:32:06.578618Z",
     "iopub.status.busy": "2021-04-04T14:32:06.577931Z",
     "iopub.status.idle": "2021-04-04T14:32:06.711819Z",
     "shell.execute_reply": "2021-04-04T14:32:06.711096Z"
    },
    "papermill": {
     "duration": 0.178999,
     "end_time": "2021-04-04T14:32:06.711989",
     "exception": false,
     "start_time": "2021-04-04T14:32:06.532990",
     "status": "completed"
    },
    "tags": []
   },
   "outputs": [
    {
     "data": {
      "image/png": "[encoded data removed]",
      "text/plain": [
       "<Figure size 432x288 with 1 Axes>"
      ]
     },
     "metadata": {
      "needs_background": "light"
     },
     "output_type": "display_data"
    }
   ],
   "source": [
    "sns.violinplot(y = \"sepal_width\", data = df, color = \"aqua\");\n",
    "# Bu dagilimda 3.0 degerinde yogunluk oldugunu goruyoruz.\n",
    "# 3.0 degeri -> medyan degerimizi ifade etmektedir."
   ]
  },
  {
   "cell_type": "markdown",
   "metadata": {
    "papermill": {
     "duration": 0.044428,
     "end_time": "2021-04-04T14:32:06.802057",
     "exception": false,
     "start_time": "2021-04-04T14:32:06.757629",
     "status": "completed"
    },
    "tags": []
   },
   "source": [
    "Daha iyi anlayabilmek için sepal.width üzerine bir distplot çizdirelim."
   ]
  },
  {
   "cell_type": "code",
   "execution_count": 17,
   "metadata": {
    "execution": {
     "iopub.execute_input": "2021-04-04T14:32:06.896894Z",
     "iopub.status.busy": "2021-04-04T14:32:06.896167Z",
     "iopub.status.idle": "2021-04-04T14:32:07.102599Z",
     "shell.execute_reply": "2021-04-04T14:32:07.101994Z"
    },
    "papermill": {
     "duration": 0.255062,
     "end_time": "2021-04-04T14:32:07.102781",
     "exception": false,
     "start_time": "2021-04-04T14:32:06.847719",
     "status": "completed"
    },
    "tags": []
   },
   "outputs": [
    {
     "name": "stderr",
     "output_type": "stream",
     "text": [
      "/opt/conda/lib/python3.7/site-packages/seaborn/distributions.py:2557: FutureWarning: `distplot` is a deprecated function and will be removed in a future version. Please adapt your code to use either `displot` (a figure-level function with similar flexibility) or `histplot` (an axes-level function for histograms).\n",
      "  warnings.warn(msg, FutureWarning)\n"
     ]
    },
    {
     "data": {
      "image/png": "[encoded data removed]",
      "text/plain": [
       "<Figure size 432x288 with 1 Axes>"
      ]
     },
     "metadata": {
      "needs_background": "light"
     },
     "output_type": "display_data"
    }
   ],
   "source": [
    "sns.distplot(df[\"sepal_width\"], bins = 16, color = \"purple\");"
   ]
  },
  {
   "cell_type": "markdown",
   "metadata": {
    "papermill": {
     "duration": 0.044938,
     "end_time": "2021-04-04T14:32:07.193019",
     "exception": false,
     "start_time": "2021-04-04T14:32:07.148081",
     "status": "completed"
    },
    "tags": []
   },
   "source": [
    "Üç çiçek türü için üç farklı keman grafiğini sepal.length değişkeninin dağılımı üzerine tek bir satır ile görselleştirelim."
   ]
  },
  {
   "cell_type": "code",
   "execution_count": 18,
   "metadata": {
    "execution": {
     "iopub.execute_input": "2021-04-04T14:32:07.295690Z",
     "iopub.status.busy": "2021-04-04T14:32:07.291631Z",
     "iopub.status.idle": "2021-04-04T14:32:07.468747Z",
     "shell.execute_reply": "2021-04-04T14:32:07.468023Z"
    },
    "papermill": {
     "duration": 0.230954,
     "end_time": "2021-04-04T14:32:07.468914",
     "exception": false,
     "start_time": "2021-04-04T14:32:07.237960",
     "status": "completed"
    },
    "tags": []
   },
   "outputs": [
    {
     "data": {
      "image/png": "[encoded data removed]",
      "text/plain": [
       "<Figure size 432x288 with 1 Axes>"
      ]
     },
     "metadata": {
      "needs_background": "light"
     },
     "output_type": "display_data"
    }
   ],
   "source": [
    "sns.violinplot(x = \"species\", y = \"sepal_length\", data = df);"
   ]
  },
  {
   "cell_type": "markdown",
   "metadata": {
    "papermill": {
     "duration": 0.047117,
     "end_time": "2021-04-04T14:32:07.562115",
     "exception": false,
     "start_time": "2021-04-04T14:32:07.514998",
     "status": "completed"
    },
    "tags": []
   },
   "source": [
    "Hangi çiçek türünden kaçar adet gözlem barındırıyor veri çerçevemiz?\n",
    "\n",
    "50 x 3 olduğunu ve dengeli olduğunu value_counts ile zaten görmüştük, ancak bunu görsel olarak ifade etmek için sns.countplot() fonksiyonuna variety parametresini vereilm."
   ]
  },
  {
   "cell_type": "code",
   "execution_count": 19,
   "metadata": {
    "execution": {
     "iopub.execute_input": "2021-04-04T14:32:07.667713Z",
     "iopub.status.busy": "2021-04-04T14:32:07.666831Z",
     "iopub.status.idle": "2021-04-04T14:32:07.789483Z",
     "shell.execute_reply": "2021-04-04T14:32:07.788763Z"
    },
    "papermill": {
     "duration": 0.177634,
     "end_time": "2021-04-04T14:32:07.789684",
     "exception": false,
     "start_time": "2021-04-04T14:32:07.612050",
     "status": "completed"
    },
    "tags": []
   },
   "outputs": [
    {
     "data": {
      "image/png": "[encoded data removed]",
      "text/plain": [
       "<Figure size 432x288 with 1 Axes>"
      ]
     },
     "metadata": {
      "needs_background": "light"
     },
     "output_type": "display_data"
    }
   ],
   "source": [
    "sns.countplot(x = \"species\", data = df);"
   ]
  },
  {
   "cell_type": "markdown",
   "metadata": {
    "papermill": {
     "duration": 0.050532,
     "end_time": "2021-04-04T14:32:07.887104",
     "exception": false,
     "start_time": "2021-04-04T14:32:07.836572",
     "status": "completed"
    },
    "tags": []
   },
   "source": [
    "sepal.length ve sepal.width değişkenlerini sns.jointplot ile görselleştirelim, dağılımı ve dağılımın frekansı yüksek olduğu bölgelerini inceleyelim."
   ]
  },
  {
   "cell_type": "code",
   "execution_count": 20,
   "metadata": {
    "execution": {
     "iopub.execute_input": "2021-04-04T14:32:08.007723Z",
     "iopub.status.busy": "2021-04-04T14:32:07.996774Z",
     "iopub.status.idle": "2021-04-04T14:32:08.458526Z",
     "shell.execute_reply": "2021-04-04T14:32:08.457930Z"
    },
    "papermill": {
     "duration": 0.523269,
     "end_time": "2021-04-04T14:32:08.458691",
     "exception": false,
     "start_time": "2021-04-04T14:32:07.935422",
     "status": "completed"
    },
    "tags": []
   },
   "outputs": [
    {
     "data": {
      "image/png": "[encoded data removed]",
      "text/plain": [
       "<Figure size 432x432 with 3 Axes>"
      ]
     },
     "metadata": {
      "needs_background": "light"
     },
     "output_type": "display_data"
    }
   ],
   "source": [
    "sns.jointplot(x = \"sepal_length\", y = \"sepal_width\", data = df, color = \"purple\");"
   ]
  },
  {
   "cell_type": "markdown",
   "metadata": {
    "papermill": {
     "duration": 0.04944,
     "end_time": "2021-04-04T14:32:08.556349",
     "exception": false,
     "start_time": "2021-04-04T14:32:08.506909",
     "status": "completed"
    },
    "tags": []
   },
   "source": [
    "Bir önceki hücrede yapmış olduğumuz görselleştirmeye kind = \"kde\" parametresini ekleyelim. Böylelikle dağılımın noktalı gösterimden çıkıp yoğunluk odaklı bir görselleştirmeye dönüştüğünü görmüş olacağız."
   ]
  },
  {
   "cell_type": "code",
   "execution_count": 21,
   "metadata": {
    "execution": {
     "iopub.execute_input": "2021-04-04T14:32:08.678027Z",
     "iopub.status.busy": "2021-04-04T14:32:08.675676Z",
     "iopub.status.idle": "2021-04-04T14:32:09.240588Z",
     "shell.execute_reply": "2021-04-04T14:32:09.239311Z"
    },
    "papermill": {
     "duration": 0.634766,
     "end_time": "2021-04-04T14:32:09.240774",
     "exception": false,
     "start_time": "2021-04-04T14:32:08.606008",
     "status": "completed"
    },
    "tags": []
   },
   "outputs": [
    {
     "data": {
      "image/png": "[encoded data removed]",
      "text/plain": [
       "<Figure size 432x432 with 3 Axes>"
      ]
     },
     "metadata": {
      "needs_background": "light"
     },
     "output_type": "display_data"
    }
   ],
   "source": [
    "sns.jointplot(x = df[\"sepal_length\"], y = df[\"sepal_width\"],kind =\"kde\", color = \"purple\");"
   ]
  },
  {
   "cell_type": "markdown",
   "metadata": {
    "papermill": {
     "duration": 0.049848,
     "end_time": "2021-04-04T14:32:09.341476",
     "exception": false,
     "start_time": "2021-04-04T14:32:09.291628",
     "status": "completed"
    },
    "tags": []
   },
   "source": [
    "scatterplot ile petal.length ve petal.width değişkenlerinin dağılımlarını çizdirelim."
   ]
  },
  {
   "cell_type": "code",
   "execution_count": 22,
   "metadata": {
    "execution": {
     "iopub.execute_input": "2021-04-04T14:32:09.470869Z",
     "iopub.status.busy": "2021-04-04T14:32:09.470145Z",
     "iopub.status.idle": "2021-04-04T14:32:09.617662Z",
     "shell.execute_reply": "2021-04-04T14:32:09.617025Z"
    },
    "papermill": {
     "duration": 0.225297,
     "end_time": "2021-04-04T14:32:09.617836",
     "exception": false,
     "start_time": "2021-04-04T14:32:09.392539",
     "status": "completed"
    },
    "tags": []
   },
   "outputs": [
    {
     "data": {
      "image/png": "[encoded data removed]",
      "text/plain": [
       "<Figure size 432x288 with 1 Axes>"
      ]
     },
     "metadata": {
      "needs_background": "light"
     },
     "output_type": "display_data"
    }
   ],
   "source": [
    "sns.scatterplot(x = \"petal_length\", y = \"petal_width\", data = df);"
   ]
  },
  {
   "cell_type": "markdown",
   "metadata": {
    "papermill": {
     "duration": 0.05136,
     "end_time": "2021-04-04T14:32:09.720656",
     "exception": false,
     "start_time": "2021-04-04T14:32:09.669296",
     "status": "completed"
    },
    "tags": []
   },
   "source": [
    "Aynı görselleştirmeye hue = \"variety\" parametresini ekleyerek 3. bir boyut verelim."
   ]
  },
  {
   "cell_type": "code",
   "execution_count": 23,
   "metadata": {
    "execution": {
     "iopub.execute_input": "2021-04-04T14:32:09.839706Z",
     "iopub.status.busy": "2021-04-04T14:32:09.834625Z",
     "iopub.status.idle": "2021-04-04T14:32:10.209374Z",
     "shell.execute_reply": "2021-04-04T14:32:10.208778Z"
    },
    "papermill": {
     "duration": 0.436665,
     "end_time": "2021-04-04T14:32:10.209539",
     "exception": false,
     "start_time": "2021-04-04T14:32:09.772874",
     "status": "completed"
    },
    "tags": []
   },
   "outputs": [
    {
     "data": {
      "image/png": "[encoded data removed]",
      "text/plain": [
       "<Figure size 432x288 with 1 Axes>"
      ]
     },
     "metadata": {
      "needs_background": "light"
     },
     "output_type": "display_data"
    }
   ],
   "source": [
    "sns.scatterplot(x = \"petal_length\", y = \"petal_width\",hue = \"species\", data = df);\n",
    "# hue argumani ile kategorik boyut koymus olduk\n",
    "# burada degiskenlerin ayni anda bir arada degerlendirilmesi soz konusu"
   ]
  },
  {
   "cell_type": "markdown",
   "metadata": {
    "papermill": {
     "duration": 0.052694,
     "end_time": "2021-04-04T14:32:10.316524",
     "exception": false,
     "start_time": "2021-04-04T14:32:10.263830",
     "status": "completed"
    },
    "tags": []
   },
   "source": [
    "\n",
    "sns.lmplot() görselleştirmesini petal.length ve petal.width değişkenleriyle implemente edelim. Petal length ile petal width arasında ne tür bir ilişki var ve bu ilişki güçlü müdür? sorusunu yanıtlayalım."
   ]
  },
  {
   "cell_type": "code",
   "execution_count": 24,
   "metadata": {
    "execution": {
     "iopub.execute_input": "2021-04-04T14:32:10.451602Z",
     "iopub.status.busy": "2021-04-04T14:32:10.450823Z",
     "iopub.status.idle": "2021-04-04T14:32:10.761136Z",
     "shell.execute_reply": "2021-04-04T14:32:10.760557Z"
    },
    "papermill": {
     "duration": 0.390367,
     "end_time": "2021-04-04T14:32:10.761306",
     "exception": false,
     "start_time": "2021-04-04T14:32:10.370939",
     "status": "completed"
    },
    "tags": []
   },
   "outputs": [
    {
     "data": {
      "image/png": "[encoded data removed]",
      "text/plain": [
       "<Figure size 360x360 with 1 Axes>"
      ]
     },
     "metadata": {
      "needs_background": "light"
     },
     "output_type": "display_data"
    }
   ],
   "source": [
    "sns.lmplot(x = \"petal_length\", y = \"petal_width\", data = df);\n",
    "# 2 degisken arasindaki dogrusal iliski gosterilmis oldu\n",
    "# dogru etrafindaki acik maviler bu dogru etrafindaki sapmalari ifade ediyor\n",
    "\n",
    "# Aralarinda pozitif yonlu guclu bir iliski vardir.."
   ]
  },
  {
   "cell_type": "markdown",
   "metadata": {
    "papermill": {
     "duration": 0.057539,
     "end_time": "2021-04-04T14:32:10.873485",
     "exception": false,
     "start_time": "2021-04-04T14:32:10.815946",
     "status": "completed"
    },
    "tags": []
   },
   "source": [
    "Bu sorunun yanıtını pekiştirmek için iki değişken arasında korelasyon katsayısını yazdıralım. "
   ]
  },
  {
   "cell_type": "code",
   "execution_count": 25,
   "metadata": {
    "execution": {
     "iopub.execute_input": "2021-04-04T14:32:10.990621Z",
     "iopub.status.busy": "2021-04-04T14:32:10.989662Z",
     "iopub.status.idle": "2021-04-04T14:32:10.994843Z",
     "shell.execute_reply": "2021-04-04T14:32:10.994219Z"
    },
    "papermill": {
     "duration": 0.066401,
     "end_time": "2021-04-04T14:32:10.994991",
     "exception": false,
     "start_time": "2021-04-04T14:32:10.928590",
     "status": "completed"
    },
    "tags": []
   },
   "outputs": [
    {
     "data": {
      "text/plain": [
       "0.9627570970509662"
      ]
     },
     "execution_count": 25,
     "metadata": {},
     "output_type": "execute_result"
    }
   ],
   "source": [
    "df.corr()[\"petal_length\"][\"petal_width\"]"
   ]
  },
  {
   "cell_type": "markdown",
   "metadata": {
    "papermill": {
     "duration": 0.056193,
     "end_time": "2021-04-04T14:32:11.107743",
     "exception": false,
     "start_time": "2021-04-04T14:32:11.051550",
     "status": "completed"
    },
    "tags": []
   },
   "source": [
    "Petal Length ile Sepal Length değerlerini toplayarak yeni bir total length özniteliği oluşturalım."
   ]
  },
  {
   "cell_type": "code",
   "execution_count": 26,
   "metadata": {
    "execution": {
     "iopub.execute_input": "2021-04-04T14:32:11.223726Z",
     "iopub.status.busy": "2021-04-04T14:32:11.223026Z",
     "iopub.status.idle": "2021-04-04T14:32:11.227317Z",
     "shell.execute_reply": "2021-04-04T14:32:11.226491Z"
    },
    "papermill": {
     "duration": 0.065273,
     "end_time": "2021-04-04T14:32:11.227482",
     "exception": false,
     "start_time": "2021-04-04T14:32:11.162209",
     "status": "completed"
    },
    "tags": []
   },
   "outputs": [],
   "source": [
    "df[\"total_length\"] = df[\"petal_length\"] + df[\"sepal_length\"]"
   ]
  },
  {
   "cell_type": "markdown",
   "metadata": {
    "papermill": {
     "duration": 0.054488,
     "end_time": "2021-04-04T14:32:11.338046",
     "exception": false,
     "start_time": "2021-04-04T14:32:11.283558",
     "status": "completed"
    },
    "tags": []
   },
   "source": [
    "total.length'in ortalama değerini yazdıralım. "
   ]
  },
  {
   "cell_type": "code",
   "execution_count": 27,
   "metadata": {
    "execution": {
     "iopub.execute_input": "2021-04-04T14:32:11.453897Z",
     "iopub.status.busy": "2021-04-04T14:32:11.453043Z",
     "iopub.status.idle": "2021-04-04T14:32:11.459617Z",
     "shell.execute_reply": "2021-04-04T14:32:11.459057Z"
    },
    "papermill": {
     "duration": 0.066871,
     "end_time": "2021-04-04T14:32:11.459767",
     "exception": false,
     "start_time": "2021-04-04T14:32:11.392896",
     "status": "completed"
    },
    "tags": []
   },
   "outputs": [
    {
     "data": {
      "text/plain": [
       "9.602000000000004"
      ]
     },
     "execution_count": 27,
     "metadata": {},
     "output_type": "execute_result"
    }
   ],
   "source": [
    "df[\"total_length\"].mean()"
   ]
  },
  {
   "cell_type": "markdown",
   "metadata": {
    "papermill": {
     "duration": 0.054573,
     "end_time": "2021-04-04T14:32:11.569316",
     "exception": false,
     "start_time": "2021-04-04T14:32:11.514743",
     "status": "completed"
    },
    "tags": []
   },
   "source": [
    "total.length'in standart sapma değerini yazdıralım."
   ]
  },
  {
   "cell_type": "code",
   "execution_count": 28,
   "metadata": {
    "execution": {
     "iopub.execute_input": "2021-04-04T14:32:11.685210Z",
     "iopub.status.busy": "2021-04-04T14:32:11.684459Z",
     "iopub.status.idle": "2021-04-04T14:32:11.689728Z",
     "shell.execute_reply": "2021-04-04T14:32:11.689119Z"
    },
    "papermill": {
     "duration": 0.065388,
     "end_time": "2021-04-04T14:32:11.689872",
     "exception": false,
     "start_time": "2021-04-04T14:32:11.624484",
     "status": "completed"
    },
    "tags": []
   },
   "outputs": [
    {
     "data": {
      "text/plain": [
       "2.5191739884121978"
      ]
     },
     "execution_count": 28,
     "metadata": {},
     "output_type": "execute_result"
    }
   ],
   "source": [
    "df[\"total_length\"].std()"
   ]
  },
  {
   "cell_type": "markdown",
   "metadata": {
    "papermill": {
     "duration": 0.05482,
     "end_time": "2021-04-04T14:32:11.802954",
     "exception": false,
     "start_time": "2021-04-04T14:32:11.748134",
     "status": "completed"
    },
    "tags": []
   },
   "source": [
    "sepal.length'in maksimum değerini yazdıralım."
   ]
  },
  {
   "cell_type": "code",
   "execution_count": 29,
   "metadata": {
    "execution": {
     "iopub.execute_input": "2021-04-04T14:32:11.921285Z",
     "iopub.status.busy": "2021-04-04T14:32:11.920595Z",
     "iopub.status.idle": "2021-04-04T14:32:11.927897Z",
     "shell.execute_reply": "2021-04-04T14:32:11.927054Z"
    },
    "papermill": {
     "duration": 0.068945,
     "end_time": "2021-04-04T14:32:11.928057",
     "exception": false,
     "start_time": "2021-04-04T14:32:11.859112",
     "status": "completed"
    },
    "tags": []
   },
   "outputs": [
    {
     "data": {
      "text/plain": [
       "7.9"
      ]
     },
     "execution_count": 29,
     "metadata": {},
     "output_type": "execute_result"
    }
   ],
   "source": [
    "df[\"sepal_length\"].max()"
   ]
  },
  {
   "cell_type": "markdown",
   "metadata": {
    "papermill": {
     "duration": 0.058353,
     "end_time": "2021-04-04T14:32:12.042004",
     "exception": false,
     "start_time": "2021-04-04T14:32:11.983651",
     "status": "completed"
    },
    "tags": []
   },
   "source": [
    "sepal.length'i 5.5'den büyük ve türü setosa olan gözlemleri yazdıralım."
   ]
  },
  {
   "cell_type": "code",
   "execution_count": 30,
   "metadata": {
    "execution": {
     "iopub.execute_input": "2021-04-04T14:32:12.167730Z",
     "iopub.status.busy": "2021-04-04T14:32:12.166677Z",
     "iopub.status.idle": "2021-04-04T14:32:12.172458Z",
     "shell.execute_reply": "2021-04-04T14:32:12.171723Z"
    },
    "papermill": {
     "duration": 0.074221,
     "end_time": "2021-04-04T14:32:12.172630",
     "exception": false,
     "start_time": "2021-04-04T14:32:12.098409",
     "status": "completed"
    },
    "tags": []
   },
   "outputs": [
    {
     "data": {
      "text/html": [
       "<div>\n",
       "<style scoped>\n",
       "    .dataframe tbody tr th:only-of-type {\n",
       "        vertical-align: middle;\n",
       "    }\n",
       "\n",
       "    .dataframe tbody tr th {\n",
       "        vertical-align: top;\n",
       "    }\n",
       "\n",
       "    .dataframe thead th {\n",
       "        text-align: right;\n",
       "    }\n",
       "</style>\n",
       "<table border=\"1\" class=\"dataframe\">\n",
       "  <thead>\n",
       "    <tr style=\"text-align: right;\">\n",
       "      <th></th>\n",
       "      <th>sepal_length</th>\n",
       "      <th>sepal_width</th>\n",
       "      <th>petal_length</th>\n",
       "      <th>petal_width</th>\n",
       "      <th>species</th>\n",
       "      <th>total_length</th>\n",
       "    </tr>\n",
       "  </thead>\n",
       "  <tbody>\n",
       "  </tbody>\n",
       "</table>\n",
       "</div>"
      ],
      "text/plain": [
       "Empty DataFrame\n",
       "Columns: [sepal_length, sepal_width, petal_length, petal_width, species, total_length]\n",
       "Index: []"
      ]
     },
     "execution_count": 30,
     "metadata": {},
     "output_type": "execute_result"
    }
   ],
   "source": [
    "df[(df[\"sepal_length\"] > 5.5) & (df[\"species\"] == \"Setosa\")]"
   ]
  },
  {
   "cell_type": "markdown",
   "metadata": {
    "papermill": {
     "duration": 0.05723,
     "end_time": "2021-04-04T14:32:12.286947",
     "exception": false,
     "start_time": "2021-04-04T14:32:12.229717",
     "status": "completed"
    },
    "tags": []
   },
   "source": [
    "petal.length'i 5'den küçük ve türü virginica olan gözlemlerin sadece sepal.length ve sepal.width değişkenlerini ve değerlerini yazdıralım."
   ]
  },
  {
   "cell_type": "code",
   "execution_count": 31,
   "metadata": {
    "execution": {
     "iopub.execute_input": "2021-04-04T14:32:12.410919Z",
     "iopub.status.busy": "2021-04-04T14:32:12.410215Z",
     "iopub.status.idle": "2021-04-04T14:32:12.414724Z",
     "shell.execute_reply": "2021-04-04T14:32:12.414104Z"
    },
    "papermill": {
     "duration": 0.070722,
     "end_time": "2021-04-04T14:32:12.414875",
     "exception": false,
     "start_time": "2021-04-04T14:32:12.344153",
     "status": "completed"
    },
    "tags": []
   },
   "outputs": [
    {
     "data": {
      "text/html": [
       "<div>\n",
       "<style scoped>\n",
       "    .dataframe tbody tr th:only-of-type {\n",
       "        vertical-align: middle;\n",
       "    }\n",
       "\n",
       "    .dataframe tbody tr th {\n",
       "        vertical-align: top;\n",
       "    }\n",
       "\n",
       "    .dataframe thead th {\n",
       "        text-align: right;\n",
       "    }\n",
       "</style>\n",
       "<table border=\"1\" class=\"dataframe\">\n",
       "  <thead>\n",
       "    <tr style=\"text-align: right;\">\n",
       "      <th></th>\n",
       "      <th>sepal_length</th>\n",
       "      <th>sepal_width</th>\n",
       "    </tr>\n",
       "  </thead>\n",
       "  <tbody>\n",
       "  </tbody>\n",
       "</table>\n",
       "</div>"
      ],
      "text/plain": [
       "Empty DataFrame\n",
       "Columns: [sepal_length, sepal_width]\n",
       "Index: []"
      ]
     },
     "execution_count": 31,
     "metadata": {},
     "output_type": "execute_result"
    }
   ],
   "source": [
    "df[(df[\"petal_length\"] < 5) & (df[\"species\"] == \"Virginica\")][[\"sepal_length\",\"sepal_width\"]]"
   ]
  },
  {
   "cell_type": "markdown",
   "metadata": {
    "papermill": {
     "duration": 0.056543,
     "end_time": "2021-04-04T14:32:12.528125",
     "exception": false,
     "start_time": "2021-04-04T14:32:12.471582",
     "status": "completed"
    },
    "tags": []
   },
   "source": [
    "Hedef değişkenimiz variety'e göre bir gruplama işlemi yapalım değişken değerlerimizin ortalamasını görüntüleyelim."
   ]
  },
  {
   "cell_type": "code",
   "execution_count": 32,
   "metadata": {
    "execution": {
     "iopub.execute_input": "2021-04-04T14:32:12.659069Z",
     "iopub.status.busy": "2021-04-04T14:32:12.658112Z",
     "iopub.status.idle": "2021-04-04T14:32:12.663445Z",
     "shell.execute_reply": "2021-04-04T14:32:12.662891Z"
    },
    "papermill": {
     "duration": 0.078108,
     "end_time": "2021-04-04T14:32:12.663600",
     "exception": false,
     "start_time": "2021-04-04T14:32:12.585492",
     "status": "completed"
    },
    "tags": []
   },
   "outputs": [
    {
     "data": {
      "text/html": [
       "<div>\n",
       "<style scoped>\n",
       "    .dataframe tbody tr th:only-of-type {\n",
       "        vertical-align: middle;\n",
       "    }\n",
       "\n",
       "    .dataframe tbody tr th {\n",
       "        vertical-align: top;\n",
       "    }\n",
       "\n",
       "    .dataframe thead th {\n",
       "        text-align: right;\n",
       "    }\n",
       "</style>\n",
       "<table border=\"1\" class=\"dataframe\">\n",
       "  <thead>\n",
       "    <tr style=\"text-align: right;\">\n",
       "      <th></th>\n",
       "      <th>sepal_length</th>\n",
       "      <th>sepal_width</th>\n",
       "      <th>petal_length</th>\n",
       "      <th>petal_width</th>\n",
       "      <th>total_length</th>\n",
       "    </tr>\n",
       "    <tr>\n",
       "      <th>species</th>\n",
       "      <th></th>\n",
       "      <th></th>\n",
       "      <th></th>\n",
       "      <th></th>\n",
       "      <th></th>\n",
       "    </tr>\n",
       "  </thead>\n",
       "  <tbody>\n",
       "    <tr>\n",
       "      <th>Iris-setosa</th>\n",
       "      <td>5.006</td>\n",
       "      <td>3.418</td>\n",
       "      <td>1.464</td>\n",
       "      <td>0.244</td>\n",
       "      <td>6.470</td>\n",
       "    </tr>\n",
       "    <tr>\n",
       "      <th>Iris-versicolor</th>\n",
       "      <td>5.936</td>\n",
       "      <td>2.770</td>\n",
       "      <td>4.260</td>\n",
       "      <td>1.326</td>\n",
       "      <td>10.196</td>\n",
       "    </tr>\n",
       "    <tr>\n",
       "      <th>Iris-virginica</th>\n",
       "      <td>6.588</td>\n",
       "      <td>2.974</td>\n",
       "      <td>5.552</td>\n",
       "      <td>2.026</td>\n",
       "      <td>12.140</td>\n",
       "    </tr>\n",
       "  </tbody>\n",
       "</table>\n",
       "</div>"
      ],
      "text/plain": [
       "                 sepal_length  sepal_width  petal_length  petal_width  \\\n",
       "species                                                                 \n",
       "Iris-setosa             5.006        3.418         1.464        0.244   \n",
       "Iris-versicolor         5.936        2.770         4.260        1.326   \n",
       "Iris-virginica          6.588        2.974         5.552        2.026   \n",
       "\n",
       "                 total_length  \n",
       "species                        \n",
       "Iris-setosa             6.470  \n",
       "Iris-versicolor        10.196  \n",
       "Iris-virginica         12.140  "
      ]
     },
     "execution_count": 32,
     "metadata": {},
     "output_type": "execute_result"
    }
   ],
   "source": [
    "df.groupby([\"species\"]).mean()"
   ]
  },
  {
   "cell_type": "markdown",
   "metadata": {
    "papermill": {
     "duration": 0.057402,
     "end_time": "2021-04-04T14:32:12.778525",
     "exception": false,
     "start_time": "2021-04-04T14:32:12.721123",
     "status": "completed"
    },
    "tags": []
   },
   "source": [
    "Hedef değişkenimiz variety'e göre gruplama işlemi yaparak sadece petal.length değişkenimizin standart sapma değerlerini yazdıralım. "
   ]
  },
  {
   "cell_type": "code",
   "execution_count": 33,
   "metadata": {
    "execution": {
     "iopub.execute_input": "2021-04-04T14:32:12.905159Z",
     "iopub.status.busy": "2021-04-04T14:32:12.904108Z",
     "iopub.status.idle": "2021-04-04T14:32:12.909462Z",
     "shell.execute_reply": "2021-04-04T14:32:12.908754Z"
    },
    "papermill": {
     "duration": 0.073548,
     "end_time": "2021-04-04T14:32:12.909622",
     "exception": false,
     "start_time": "2021-04-04T14:32:12.836074",
     "status": "completed"
    },
    "tags": []
   },
   "outputs": [
    {
     "data": {
      "text/plain": [
       "species\n",
       "Iris-setosa        0.173511\n",
       "Iris-versicolor    0.469911\n",
       "Iris-virginica     0.551895\n",
       "Name: petal_length, dtype: float64"
      ]
     },
     "execution_count": 33,
     "metadata": {},
     "output_type": "execute_result"
    }
   ],
   "source": [
    "df.groupby([\"species\"])[\"petal_length\"].std()"
   ]
  },
  {
   "cell_type": "markdown",
   "metadata": {
    "papermill": {
     "duration": 0.058234,
     "end_time": "2021-04-04T14:32:13.026037",
     "exception": false,
     "start_time": "2021-04-04T14:32:12.967803",
     "status": "completed"
    },
    "tags": []
   },
   "source": [
    "Emeğiniz, ayırdığınız vakit ve ilginiz için teşekkürler."
   ]
  }
 ],
 "metadata": {
  "kernelspec": {
   "display_name": "Python 3",
   "language": "python",
   "name": "python3"
  },
  "language_info": {
   "codemirror_mode": {
    "name": "ipython",
    "version": 3
   },
   "file_extension": ".py",
   "mimetype": "text/x-python",
   "name": "python",
   "nbconvert_exporter": "python",
   "pygments_lexer": "ipython3",
   "version": "3.7.9"
  },
  "papermill": {
   "default_parameters": {},
   "duration": 19.099865,
   "end_time": "2021-04-04T14:32:13.796045",
   "environment_variables": {},
   "exception": null,
   "input_path": "__notebook__.ipynb",
   "output_path": "__notebook__.ipynb",
   "parameters": {},
   "start_time": "2021-04-04T14:31:54.696180",
   "version": "2.2.2"
  }
 },
 "nbformat": 4,
 "nbformat_minor": 4
}
